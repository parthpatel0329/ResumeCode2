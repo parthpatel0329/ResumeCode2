{
 "cells": [
  {
   "cell_type": "code",
   "execution_count": 1,
   "id": "b5e1d18f",
   "metadata": {},
   "outputs": [],
   "source": [
    "#0.98907 on Kaggle Digit Recognizer MNIST data Competition"
   ]
  },
  {
   "cell_type": "code",
   "execution_count": 2,
   "id": "9b7c9721",
   "metadata": {},
   "outputs": [],
   "source": [
    "import numpy as np\n",
    "import pandas as pd\n",
    "import tensorflow as tf\n",
    "from tensorflow.keras import layers, models\n",
    "import matplotlib.pyplot as plt\n",
    "from sklearn.metrics import accuracy_score\n",
    "from keras.utils.np_utils import to_categorical\n",
    "from sklearn.model_selection import train_test_split"
   ]
  },
  {
   "cell_type": "code",
   "execution_count": 3,
   "id": "8e002ea1",
   "metadata": {},
   "outputs": [],
   "source": [
    "train = pd.read_csv('train.csv')\n",
    "test = pd.read_csv('test.csv')"
   ]
  },
  {
   "cell_type": "code",
   "execution_count": 4,
   "id": "6e93ac42",
   "metadata": {},
   "outputs": [],
   "source": [
    "X_train = train.drop(labels = [\"label\"],axis = 1) \n",
    "Y_train = train[\"label\"]\n",
    "\n",
    "#normalize pixels\n",
    "X_train = X_train / 255.0\n",
    "test = test / 255.0\n",
    "\n",
    "#reshape\n",
    "X_train = X_train.values.reshape(-1,28,28,1)\n",
    "test = test.values.reshape(-1,28,28,1)\n",
    "Y_train = to_categorical(Y_train, num_classes = 10)"
   ]
  },
  {
   "cell_type": "code",
   "execution_count": 5,
   "id": "36bd7cf5",
   "metadata": {},
   "outputs": [],
   "source": [
    "training_data, validation_data, tY, vY = train_test_split(X_train, Y_train, test_size = 0.1, random_state=2)"
   ]
  },
  {
   "cell_type": "code",
   "execution_count": 6,
   "id": "23d9c23b",
   "metadata": {},
   "outputs": [
    {
     "name": "stderr",
     "output_type": "stream",
     "text": [
      "2022-07-18 13:10:56.625121: I tensorflow/core/platform/cpu_feature_guard.cc:193] This TensorFlow binary is optimized with oneAPI Deep Neural Network Library (oneDNN) to use the following CPU instructions in performance-critical operations:  AVX2 FMA\n",
      "To enable them in other operations, rebuild TensorFlow with the appropriate compiler flags.\n"
     ]
    }
   ],
   "source": [
    "#Basic Convolutional Neural Network which predicts image value ranging from 0-9\n",
    "\n",
    "tf.random.set_seed(12)\n",
    "model = models.Sequential()\n",
    "model.add(layers.Conv2D(32, (3, 3), activation='relu', input_shape=(28, 28, 1)))\n",
    "model.add(layers.MaxPooling2D((2, 2)))\n",
    "model.add(layers.Conv2D(64, (3, 3), activation='relu'))\n",
    "model.add(layers.MaxPooling2D((2, 2)))\n",
    "model.add(layers.Conv2D(64, (3, 3), activation='relu'))\n",
    "model.add(layers.Flatten())\n",
    "model.add(layers.Dense(64, activation='relu'))\n",
    "model.add(layers.Dense(10, activation='softmax'))\n",
    "\n",
    "model.compile(optimizer=\"adam\", loss=\"categorical_crossentropy\", metrics=[\"accuracy\"])"
   ]
  },
  {
   "cell_type": "code",
   "execution_count": 7,
   "id": "beac3281",
   "metadata": {},
   "outputs": [
    {
     "name": "stdout",
     "output_type": "stream",
     "text": [
      "Model: \"sequential\"\n",
      "_________________________________________________________________\n",
      " Layer (type)                Output Shape              Param #   \n",
      "=================================================================\n",
      " conv2d (Conv2D)             (None, 26, 26, 32)        320       \n",
      "                                                                 \n",
      " max_pooling2d (MaxPooling2D  (None, 13, 13, 32)       0         \n",
      " )                                                               \n",
      "                                                                 \n",
      " conv2d_1 (Conv2D)           (None, 11, 11, 64)        18496     \n",
      "                                                                 \n",
      " max_pooling2d_1 (MaxPooling  (None, 5, 5, 64)         0         \n",
      " 2D)                                                             \n",
      "                                                                 \n",
      " conv2d_2 (Conv2D)           (None, 3, 3, 64)          36928     \n",
      "                                                                 \n",
      " flatten (Flatten)           (None, 576)               0         \n",
      "                                                                 \n",
      " dense (Dense)               (None, 64)                36928     \n",
      "                                                                 \n",
      " dense_1 (Dense)             (None, 10)                650       \n",
      "                                                                 \n",
      "=================================================================\n",
      "Total params: 93,322\n",
      "Trainable params: 93,322\n",
      "Non-trainable params: 0\n",
      "_________________________________________________________________\n"
     ]
    }
   ],
   "source": [
    "model.summary()"
   ]
  },
  {
   "cell_type": "code",
   "execution_count": 8,
   "id": "1e525cfd",
   "metadata": {},
   "outputs": [
    {
     "name": "stdout",
     "output_type": "stream",
     "text": [
      "Epoch 1/10\n",
      "1182/1182 [==============================] - 21s 17ms/step - loss: 0.1845 - accuracy: 0.9423 - val_loss: 0.0720 - val_accuracy: 0.9769\n",
      "Epoch 2/10\n",
      "1182/1182 [==============================] - 20s 17ms/step - loss: 0.0554 - accuracy: 0.9821 - val_loss: 0.0583 - val_accuracy: 0.9838\n",
      "Epoch 3/10\n",
      "1182/1182 [==============================] - 19s 16ms/step - loss: 0.0387 - accuracy: 0.9875 - val_loss: 0.0580 - val_accuracy: 0.9833\n",
      "Epoch 4/10\n",
      "1182/1182 [==============================] - 20s 17ms/step - loss: 0.0289 - accuracy: 0.9904 - val_loss: 0.0405 - val_accuracy: 0.9883\n",
      "Epoch 5/10\n",
      "1182/1182 [==============================] - 21s 17ms/step - loss: 0.0221 - accuracy: 0.9924 - val_loss: 0.0408 - val_accuracy: 0.9883\n",
      "Epoch 6/10\n",
      "1182/1182 [==============================] - 21s 18ms/step - loss: 0.0196 - accuracy: 0.9935 - val_loss: 0.0490 - val_accuracy: 0.9871\n",
      "Epoch 7/10\n",
      "1182/1182 [==============================] - 21s 18ms/step - loss: 0.0143 - accuracy: 0.9956 - val_loss: 0.0385 - val_accuracy: 0.9905\n",
      "Epoch 8/10\n",
      "1182/1182 [==============================] - 20s 17ms/step - loss: 0.0138 - accuracy: 0.9956 - val_loss: 0.0476 - val_accuracy: 0.9874\n",
      "Epoch 9/10\n",
      "1182/1182 [==============================] - 19s 16ms/step - loss: 0.0113 - accuracy: 0.9961 - val_loss: 0.0544 - val_accuracy: 0.9864\n",
      "Epoch 10/10\n",
      "1182/1182 [==============================] - 20s 17ms/step - loss: 0.0118 - accuracy: 0.9956 - val_loss: 0.0496 - val_accuracy: 0.9867\n"
     ]
    },
    {
     "data": {
      "text/plain": [
       "<keras.callbacks.History at 0x7fa2436f50a0>"
      ]
     },
     "execution_count": 8,
     "metadata": {},
     "output_type": "execute_result"
    }
   ],
   "source": [
    "model.fit(training_data, tY, epochs = 10, validation_data = (validation_data,vY))"
   ]
  },
  {
   "cell_type": "code",
   "execution_count": 9,
   "id": "410f629a",
   "metadata": {},
   "outputs": [
    {
     "name": "stdout",
     "output_type": "stream",
     "text": [
      "1182/1182 [==============================] - 5s 4ms/step\n",
      "Accuracy = 0.9980952380952381\n",
      "\n",
      "132/132 [==============================] - 1s 5ms/step\n",
      "Accuracy = 0.9866666666666667\n",
      "\n",
      "875/875 [==============================] - 4s 5ms/step\n"
     ]
    }
   ],
   "source": [
    "logit=model.predict(training_data)\n",
    "preds = np.argmax(logit,axis = 1).tolist()\n",
    "tmpY = np.argmax(tY,axis = 1).tolist()\n",
    "print(\"Accuracy = {}\".format(accuracy_score(tmpY, preds)))\n",
    "print()\n",
    "logit=model.predict(validation_data)\n",
    "preds=np.argmax(logit,axis = 1).tolist()\n",
    "vmpY = np.argmax(vY,axis = 1).tolist()\n",
    "print(\"Accuracy = {}\".format(accuracy_score(vmpY, preds)))\n",
    "print()\n",
    "logit=model.predict(test)\n",
    "y_pred=np.argmax(logit,axis = 1).tolist()"
   ]
  },
  {
   "cell_type": "code",
   "execution_count": 10,
   "id": "088bd542",
   "metadata": {},
   "outputs": [
    {
     "data": {
      "text/html": [
       "<div>\n",
       "<style scoped>\n",
       "    .dataframe tbody tr th:only-of-type {\n",
       "        vertical-align: middle;\n",
       "    }\n",
       "\n",
       "    .dataframe tbody tr th {\n",
       "        vertical-align: top;\n",
       "    }\n",
       "\n",
       "    .dataframe thead th {\n",
       "        text-align: right;\n",
       "    }\n",
       "</style>\n",
       "<table border=\"1\" class=\"dataframe\">\n",
       "  <thead>\n",
       "    <tr style=\"text-align: right;\">\n",
       "      <th></th>\n",
       "      <th>ImageId</th>\n",
       "      <th>Label</th>\n",
       "    </tr>\n",
       "  </thead>\n",
       "  <tbody>\n",
       "    <tr>\n",
       "      <th>0</th>\n",
       "      <td>1</td>\n",
       "      <td>2</td>\n",
       "    </tr>\n",
       "    <tr>\n",
       "      <th>1</th>\n",
       "      <td>2</td>\n",
       "      <td>0</td>\n",
       "    </tr>\n",
       "    <tr>\n",
       "      <th>2</th>\n",
       "      <td>3</td>\n",
       "      <td>9</td>\n",
       "    </tr>\n",
       "    <tr>\n",
       "      <th>3</th>\n",
       "      <td>4</td>\n",
       "      <td>9</td>\n",
       "    </tr>\n",
       "    <tr>\n",
       "      <th>4</th>\n",
       "      <td>5</td>\n",
       "      <td>3</td>\n",
       "    </tr>\n",
       "    <tr>\n",
       "      <th>...</th>\n",
       "      <td>...</td>\n",
       "      <td>...</td>\n",
       "    </tr>\n",
       "    <tr>\n",
       "      <th>27995</th>\n",
       "      <td>27996</td>\n",
       "      <td>9</td>\n",
       "    </tr>\n",
       "    <tr>\n",
       "      <th>27996</th>\n",
       "      <td>27997</td>\n",
       "      <td>7</td>\n",
       "    </tr>\n",
       "    <tr>\n",
       "      <th>27997</th>\n",
       "      <td>27998</td>\n",
       "      <td>3</td>\n",
       "    </tr>\n",
       "    <tr>\n",
       "      <th>27998</th>\n",
       "      <td>27999</td>\n",
       "      <td>9</td>\n",
       "    </tr>\n",
       "    <tr>\n",
       "      <th>27999</th>\n",
       "      <td>28000</td>\n",
       "      <td>2</td>\n",
       "    </tr>\n",
       "  </tbody>\n",
       "</table>\n",
       "<p>28000 rows × 2 columns</p>\n",
       "</div>"
      ],
      "text/plain": [
       "       ImageId  Label\n",
       "0            1      2\n",
       "1            2      0\n",
       "2            3      9\n",
       "3            4      9\n",
       "4            5      3\n",
       "...        ...    ...\n",
       "27995    27996      9\n",
       "27996    27997      7\n",
       "27997    27998      3\n",
       "27998    27999      9\n",
       "27999    28000      2\n",
       "\n",
       "[28000 rows x 2 columns]"
      ]
     },
     "execution_count": 10,
     "metadata": {},
     "output_type": "execute_result"
    }
   ],
   "source": [
    "ans = pd.DataFrame()\n",
    "ans['ImageId'] = range(1,28001)\n",
    "ans['Label'] = y_pred\n",
    "ans"
   ]
  },
  {
   "cell_type": "code",
   "execution_count": 11,
   "id": "f4c5600e",
   "metadata": {},
   "outputs": [],
   "source": [
    "ans.to_csv('preds.csv',index=False)"
   ]
  },
  {
   "cell_type": "code",
   "execution_count": null,
   "id": "f0037a50",
   "metadata": {},
   "outputs": [],
   "source": []
  }
 ],
 "metadata": {
  "kernelspec": {
   "display_name": "Python 3 (ipykernel)",
   "language": "python",
   "name": "python3"
  },
  "language_info": {
   "codemirror_mode": {
    "name": "ipython",
    "version": 3
   },
   "file_extension": ".py",
   "mimetype": "text/x-python",
   "name": "python",
   "nbconvert_exporter": "python",
   "pygments_lexer": "ipython3",
   "version": "3.9.7"
  }
 },
 "nbformat": 4,
 "nbformat_minor": 5
}
